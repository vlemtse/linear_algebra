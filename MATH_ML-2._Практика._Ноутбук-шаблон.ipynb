{
 "cells": [
  {
   "cell_type": "markdown",
   "id": "b054bd88",
   "metadata": {
    "id": "b054bd88"
   },
   "source": [
    "# <center> Линейная алгебра в контексте линейных методов. Практика.\n",
    "\n",
    "## <center> Прогнозирование выработки газа на скважинах."
   ]
  },
  {
   "cell_type": "markdown",
   "id": "325bc80b",
   "metadata": {
    "id": "325bc80b"
   },
   "source": [
    "## Постановка задачи"
   ]
  },
  {
   "cell_type": "markdown",
   "id": "8247bd54",
   "metadata": {
    "id": "8247bd54"
   },
   "source": [
    "У Василия, основателя компании «Газ-Таз-Ваз-Нефть», дела идут в гору: у него уже функционирует 200 скважин для добычи газа. В этом году он открывает 30 новых скважин. Однако в целях оптимизации расходов и повышения дохода Василию необходимо оценить, сколько денег будет приносить ему каждая из скважин, а также понять, какие факторы (параметры скважин) потенциально сильнее всего повлияют на объём добычи газа. Для этого Василий решил нанять вас как специалиста в области Data Science.\n",
    "\n",
    "Василий представляет вам набор данных о добыче газа на своих скважинах. Файл с данными вы можете скачать на платформе.\n",
    "\n",
    "**Признаки в данных:**\n",
    "\n",
    "* Well — идентификатор скважины;\n",
    "* Por — пористость скважины (%);\n",
    "* Perm — проницаемость скважины;\n",
    "* AI — акустический импеданс ($кг/м^2 * 10^6$);\n",
    "* Brittle — коэффициент хрупкости скважины (%);\n",
    "* TOC — общий органический углерод (%);\n",
    "* VR — коэффициент отражения витринита (%);\n",
    "* Prod — добыча газа в сутки (млн. кубических футов).\n",
    "\n",
    "**Ваша задача** — построить регрессионную модель, которая прогнозирует выработку газа на скважине (целевой признак — Prod) на основе остальных характеристик скважины, и проинтерпретировать результаты вашей модели.\n",
    "\n",
    "Разделим задачу на две части:\n",
    "* В первой мы построим простейшую модель линейной регрессии, проанализируем результаты её работы и выберем наиболее значимые факторы для прогнозирования.\n",
    "* Во второй мы займёмся построением модели полиномиальной регрессии с регуляризацией и посмотрим на итоговые результаты моделирования.\n"
   ]
  },
  {
   "cell_type": "markdown",
   "id": "d67d069e",
   "metadata": {
    "id": "d67d069e"
   },
   "source": [
    "Импортируем необходимые библиотеки:"
   ]
  },
  {
   "cell_type": "code",
   "id": "83a555bc-8dff-4b7e-bba1-cd4f4a9e69b2",
   "metadata": {
    "id": "83a555bc-8dff-4b7e-bba1-cd4f4a9e69b2",
    "ExecuteTime": {
     "end_time": "2024-12-01T11:18:55.000451Z",
     "start_time": "2024-12-01T11:18:54.997548Z"
    }
   },
   "source": [
    "# Импорт библиотек\n",
    "import numpy as np # для работы с массивами\n",
    "import pandas as pd # для работы с DataFrame \n",
    "from sklearn.linear_model import LinearRegression\n",
    "import seaborn as sns # библиотека для визуализации статистических данных\n",
    "import matplotlib.pyplot as plt # для построения графиков\n",
    "\n",
    "%matplotlib inline"
   ],
   "outputs": [],
   "execution_count": 107
  },
  {
   "cell_type": "markdown",
   "id": "e689ddaf",
   "metadata": {
    "id": "e689ddaf"
   },
   "source": [
    "Прочитаем исходные данные:"
   ]
  },
  {
   "cell_type": "code",
   "id": "b7b5cd9b-703f-4dbc-a6e3-61d583eafcac",
   "metadata": {
    "colab": {
     "base_uri": "https://localhost:8080/",
     "height": 206
    },
    "id": "b7b5cd9b-703f-4dbc-a6e3-61d583eafcac",
    "outputId": "d4e99a48-2a0d-4edd-f86c-617c44bf36d2",
    "ExecuteTime": {
     "end_time": "2024-12-01T11:18:55.079736Z",
     "start_time": "2024-12-01T11:18:55.067491Z"
    }
   },
   "source": [
    "data = pd.read_csv('resources/unconv.csv')\n",
    "data.head()"
   ],
   "outputs": [
    {
     "data": {
      "text/plain": [
       "   Well    Por  Perm    AI  Brittle   TOC    VR         Prod\n",
       "0     1  12.08  2.92  2.80    81.40  1.16  2.31  4165.196191\n",
       "1     2  12.38  3.53  3.22    46.17  0.89  1.88  3561.146205\n",
       "2     3  14.02  2.59  4.01    72.80  0.89  2.72  4284.348574\n",
       "3     4  17.67  6.75  2.63    39.81  1.08  1.88  5098.680869\n",
       "4     5  17.52  4.57  3.18    10.94  1.51  1.90  3406.132832"
      ],
      "text/html": [
       "<div>\n",
       "<style scoped>\n",
       "    .dataframe tbody tr th:only-of-type {\n",
       "        vertical-align: middle;\n",
       "    }\n",
       "\n",
       "    .dataframe tbody tr th {\n",
       "        vertical-align: top;\n",
       "    }\n",
       "\n",
       "    .dataframe thead th {\n",
       "        text-align: right;\n",
       "    }\n",
       "</style>\n",
       "<table border=\"1\" class=\"dataframe\">\n",
       "  <thead>\n",
       "    <tr style=\"text-align: right;\">\n",
       "      <th></th>\n",
       "      <th>Well</th>\n",
       "      <th>Por</th>\n",
       "      <th>Perm</th>\n",
       "      <th>AI</th>\n",
       "      <th>Brittle</th>\n",
       "      <th>TOC</th>\n",
       "      <th>VR</th>\n",
       "      <th>Prod</th>\n",
       "    </tr>\n",
       "  </thead>\n",
       "  <tbody>\n",
       "    <tr>\n",
       "      <th>0</th>\n",
       "      <td>1</td>\n",
       "      <td>12.08</td>\n",
       "      <td>2.92</td>\n",
       "      <td>2.80</td>\n",
       "      <td>81.40</td>\n",
       "      <td>1.16</td>\n",
       "      <td>2.31</td>\n",
       "      <td>4165.196191</td>\n",
       "    </tr>\n",
       "    <tr>\n",
       "      <th>1</th>\n",
       "      <td>2</td>\n",
       "      <td>12.38</td>\n",
       "      <td>3.53</td>\n",
       "      <td>3.22</td>\n",
       "      <td>46.17</td>\n",
       "      <td>0.89</td>\n",
       "      <td>1.88</td>\n",
       "      <td>3561.146205</td>\n",
       "    </tr>\n",
       "    <tr>\n",
       "      <th>2</th>\n",
       "      <td>3</td>\n",
       "      <td>14.02</td>\n",
       "      <td>2.59</td>\n",
       "      <td>4.01</td>\n",
       "      <td>72.80</td>\n",
       "      <td>0.89</td>\n",
       "      <td>2.72</td>\n",
       "      <td>4284.348574</td>\n",
       "    </tr>\n",
       "    <tr>\n",
       "      <th>3</th>\n",
       "      <td>4</td>\n",
       "      <td>17.67</td>\n",
       "      <td>6.75</td>\n",
       "      <td>2.63</td>\n",
       "      <td>39.81</td>\n",
       "      <td>1.08</td>\n",
       "      <td>1.88</td>\n",
       "      <td>5098.680869</td>\n",
       "    </tr>\n",
       "    <tr>\n",
       "      <th>4</th>\n",
       "      <td>5</td>\n",
       "      <td>17.52</td>\n",
       "      <td>4.57</td>\n",
       "      <td>3.18</td>\n",
       "      <td>10.94</td>\n",
       "      <td>1.51</td>\n",
       "      <td>1.90</td>\n",
       "      <td>3406.132832</td>\n",
       "    </tr>\n",
       "  </tbody>\n",
       "</table>\n",
       "</div>"
      ]
     },
     "execution_count": 108,
     "metadata": {},
     "output_type": "execute_result"
    }
   ],
   "execution_count": 108
  },
  {
   "cell_type": "markdown",
   "id": "58639b40",
   "metadata": {
    "id": "58639b40"
   },
   "source": [
    "## Практика: линейная регрессия по методу наименьших квадратов"
   ]
  },
  {
   "cell_type": "markdown",
   "id": "a90535b8",
   "metadata": {
    "id": "a90535b8"
   },
   "source": [
    "Для начала построим простейшую модель линейной регрессии, проанализируем результаты её работы и выберем наиболее значимые факторы для прогнозирования.\n",
    "\n",
    "В первой части вам предстоит выполнить задания 5.0–5.6. Максимальное количество баллов, которое можно получить, — 9."
   ]
  },
  {
   "cell_type": "markdown",
   "id": "4061b706",
   "metadata": {
    "id": "4061b706"
   },
   "source": [
    "### Задание 5.0. (не оценивается)\n",
    "\n",
    "Проведите небольшой разведывательный анализ, чтобы поближе познакомиться с исходными данными. Постройте несколько визуализаций, которые помогут вам понять, как устроены исходные признаки, а также смогут продемонстрировать взаимосвязь факторов. \n",
    "\n",
    "Сделайте промежуточные выводы из проведённого разведывательного анализа."
   ]
  },
  {
   "cell_type": "code",
   "id": "daf1ccc7",
   "metadata": {
    "id": "daf1ccc7",
    "ExecuteTime": {
     "end_time": "2024-12-01T11:18:55.129712Z",
     "start_time": "2024-12-01T11:18:55.127432Z"
    }
   },
   "source": [
    "# Ваш код здесь"
   ],
   "outputs": [],
   "execution_count": 109
  },
  {
   "cell_type": "markdown",
   "id": "d11cb44f",
   "metadata": {
    "id": "d11cb44f"
   },
   "source": [
    "### Задание 5.1. (2 балла)\n",
    "\n",
    "Постройте корреляционную матрицу факторов, включив в неё целевой признак. \n",
    "\n",
    "Для наглядности визуализируйте полученную матрицу с помощью тепловой карты. \n",
    "\n",
    "**Примечание.** *Для визуализации вы можете использовать любую из знакомых вам библиотек.*\n",
    "\n",
    "На основе построенной корреляционной матрицы ответьте на следующий вопрос:\n",
    "\n",
    "* Какие факторы сильнее всего коррелируют с целевой переменной?\n",
    "\n",
    "Вычислите ранг и определитель полученной матрицы корреляций и приведите развёрнутые ответы на следующие вопросы:\n",
    "* Является ли корреляционная матрица плохо обусловенной (близок ли её опредитель к нулю)?\n",
    "* Что вы можете сказать о наличии коллинераности/мультиколлинеарности в данных? \n",
    "* Применима ли в данном случае модель классической линейной регрессии по методу наименьших квадратов и почему? "
   ]
  },
  {
   "cell_type": "markdown",
   "source": [
    "**Критерии оценивания:**\n",
    "- Задание выполнено верно, учтены все условия (**2 балла**): \n",
    "    * приведён код для расчёта корреляционной матрицы;\n",
    "    * приведён код для визуализации корреляционной матрицы в виде тепловой карты;\n",
    "    * рассчитаны ранг и определитель корреляционной матрицы;\n",
    "    * предоставлены обоснованные ответы на все поставленные вопросы. \n",
    "\n",
    "- Задание выполнено верно, но не учтено одно условие (**1 балл**).\n",
    "- Задание выполнено неверно, не учтено несколько условий (**0 баллов**)."
   ],
   "metadata": {
    "id": "57OjUl5e2oiL"
   },
   "id": "57OjUl5e2oiL"
  },
  {
   "metadata": {
    "ExecuteTime": {
     "end_time": "2024-12-01T11:18:55.228334Z",
     "start_time": "2024-12-01T11:18:55.220220Z"
    }
   },
   "cell_type": "code",
   "source": [
    "df = data.copy()\n",
    "prod = df.Prod\n",
    "df = df.drop('Prod', axis=1)\n",
    "df.insert(0, 'Prod', prod)\n",
    "df"
   ],
   "id": "c6018ba8736f510c",
   "outputs": [
    {
     "data": {
      "text/plain": [
       "            Prod  Well    Por  Perm    AI  Brittle   TOC    VR\n",
       "0    4165.196191     1  12.08  2.92  2.80    81.40  1.16  2.31\n",
       "1    3561.146205     2  12.38  3.53  3.22    46.17  0.89  1.88\n",
       "2    4284.348574     3  14.02  2.59  4.01    72.80  0.89  2.72\n",
       "3    5098.680869     4  17.67  6.75  2.63    39.81  1.08  1.88\n",
       "4    3406.132832     5  17.52  4.57  3.18    10.94  1.51  1.90\n",
       "..           ...   ...    ...   ...   ...      ...   ...   ...\n",
       "195  3847.571003   196  11.95  3.13  2.97    67.18  0.80  2.06\n",
       "196  5601.227131   197  17.99  9.87  3.38    44.32  0.98  2.08\n",
       "197  3409.575363   198  12.12  2.27  3.52    57.07 -0.04  1.73\n",
       "198  5087.592149   199  15.55  4.48  2.48    58.25  1.89  2.35\n",
       "199  6662.622385   200  20.89  7.54  3.23    46.17  1.71  2.27\n",
       "\n",
       "[200 rows x 8 columns]"
      ],
      "text/html": [
       "<div>\n",
       "<style scoped>\n",
       "    .dataframe tbody tr th:only-of-type {\n",
       "        vertical-align: middle;\n",
       "    }\n",
       "\n",
       "    .dataframe tbody tr th {\n",
       "        vertical-align: top;\n",
       "    }\n",
       "\n",
       "    .dataframe thead th {\n",
       "        text-align: right;\n",
       "    }\n",
       "</style>\n",
       "<table border=\"1\" class=\"dataframe\">\n",
       "  <thead>\n",
       "    <tr style=\"text-align: right;\">\n",
       "      <th></th>\n",
       "      <th>Prod</th>\n",
       "      <th>Well</th>\n",
       "      <th>Por</th>\n",
       "      <th>Perm</th>\n",
       "      <th>AI</th>\n",
       "      <th>Brittle</th>\n",
       "      <th>TOC</th>\n",
       "      <th>VR</th>\n",
       "    </tr>\n",
       "  </thead>\n",
       "  <tbody>\n",
       "    <tr>\n",
       "      <th>0</th>\n",
       "      <td>4165.196191</td>\n",
       "      <td>1</td>\n",
       "      <td>12.08</td>\n",
       "      <td>2.92</td>\n",
       "      <td>2.80</td>\n",
       "      <td>81.40</td>\n",
       "      <td>1.16</td>\n",
       "      <td>2.31</td>\n",
       "    </tr>\n",
       "    <tr>\n",
       "      <th>1</th>\n",
       "      <td>3561.146205</td>\n",
       "      <td>2</td>\n",
       "      <td>12.38</td>\n",
       "      <td>3.53</td>\n",
       "      <td>3.22</td>\n",
       "      <td>46.17</td>\n",
       "      <td>0.89</td>\n",
       "      <td>1.88</td>\n",
       "    </tr>\n",
       "    <tr>\n",
       "      <th>2</th>\n",
       "      <td>4284.348574</td>\n",
       "      <td>3</td>\n",
       "      <td>14.02</td>\n",
       "      <td>2.59</td>\n",
       "      <td>4.01</td>\n",
       "      <td>72.80</td>\n",
       "      <td>0.89</td>\n",
       "      <td>2.72</td>\n",
       "    </tr>\n",
       "    <tr>\n",
       "      <th>3</th>\n",
       "      <td>5098.680869</td>\n",
       "      <td>4</td>\n",
       "      <td>17.67</td>\n",
       "      <td>6.75</td>\n",
       "      <td>2.63</td>\n",
       "      <td>39.81</td>\n",
       "      <td>1.08</td>\n",
       "      <td>1.88</td>\n",
       "    </tr>\n",
       "    <tr>\n",
       "      <th>4</th>\n",
       "      <td>3406.132832</td>\n",
       "      <td>5</td>\n",
       "      <td>17.52</td>\n",
       "      <td>4.57</td>\n",
       "      <td>3.18</td>\n",
       "      <td>10.94</td>\n",
       "      <td>1.51</td>\n",
       "      <td>1.90</td>\n",
       "    </tr>\n",
       "    <tr>\n",
       "      <th>...</th>\n",
       "      <td>...</td>\n",
       "      <td>...</td>\n",
       "      <td>...</td>\n",
       "      <td>...</td>\n",
       "      <td>...</td>\n",
       "      <td>...</td>\n",
       "      <td>...</td>\n",
       "      <td>...</td>\n",
       "    </tr>\n",
       "    <tr>\n",
       "      <th>195</th>\n",
       "      <td>3847.571003</td>\n",
       "      <td>196</td>\n",
       "      <td>11.95</td>\n",
       "      <td>3.13</td>\n",
       "      <td>2.97</td>\n",
       "      <td>67.18</td>\n",
       "      <td>0.80</td>\n",
       "      <td>2.06</td>\n",
       "    </tr>\n",
       "    <tr>\n",
       "      <th>196</th>\n",
       "      <td>5601.227131</td>\n",
       "      <td>197</td>\n",
       "      <td>17.99</td>\n",
       "      <td>9.87</td>\n",
       "      <td>3.38</td>\n",
       "      <td>44.32</td>\n",
       "      <td>0.98</td>\n",
       "      <td>2.08</td>\n",
       "    </tr>\n",
       "    <tr>\n",
       "      <th>197</th>\n",
       "      <td>3409.575363</td>\n",
       "      <td>198</td>\n",
       "      <td>12.12</td>\n",
       "      <td>2.27</td>\n",
       "      <td>3.52</td>\n",
       "      <td>57.07</td>\n",
       "      <td>-0.04</td>\n",
       "      <td>1.73</td>\n",
       "    </tr>\n",
       "    <tr>\n",
       "      <th>198</th>\n",
       "      <td>5087.592149</td>\n",
       "      <td>199</td>\n",
       "      <td>15.55</td>\n",
       "      <td>4.48</td>\n",
       "      <td>2.48</td>\n",
       "      <td>58.25</td>\n",
       "      <td>1.89</td>\n",
       "      <td>2.35</td>\n",
       "    </tr>\n",
       "    <tr>\n",
       "      <th>199</th>\n",
       "      <td>6662.622385</td>\n",
       "      <td>200</td>\n",
       "      <td>20.89</td>\n",
       "      <td>7.54</td>\n",
       "      <td>3.23</td>\n",
       "      <td>46.17</td>\n",
       "      <td>1.71</td>\n",
       "      <td>2.27</td>\n",
       "    </tr>\n",
       "  </tbody>\n",
       "</table>\n",
       "<p>200 rows × 8 columns</p>\n",
       "</div>"
      ]
     },
     "execution_count": 110,
     "metadata": {},
     "output_type": "execute_result"
    }
   ],
   "execution_count": 110
  },
  {
   "metadata": {
    "ExecuteTime": {
     "end_time": "2024-12-01T11:18:55.396454Z",
     "start_time": "2024-12-01T11:18:55.390128Z"
    }
   },
   "cell_type": "code",
   "source": [
    "df_corr = df.corr()\n",
    "df_corr"
   ],
   "id": "b5f75e37de0451",
   "outputs": [
    {
     "data": {
      "text/plain": [
       "             Prod      Well       Por      Perm        AI   Brittle       TOC  \\\n",
       "Prod     1.000000  0.026817  0.861910  0.727426 -0.390835  0.237155  0.654445   \n",
       "Well     0.026817  1.000000  0.068927  0.077928  0.041483 -0.079252  0.022624   \n",
       "Por      0.861910  0.068927  1.000000  0.760546 -0.461549 -0.218570  0.711831   \n",
       "Perm     0.727426  0.077928  0.760546  1.000000 -0.239636 -0.124017  0.471746   \n",
       "AI      -0.390835  0.041483 -0.461549 -0.239636  1.000000  0.127599 -0.531864   \n",
       "Brittle  0.237155 -0.079252 -0.218570 -0.124017  0.127599  1.000000 -0.214282   \n",
       "TOC      0.654445  0.022624  0.711831  0.471746 -0.531864 -0.214282  1.000000   \n",
       "VR       0.323182 -0.007279  0.111860  0.051023  0.499143  0.317929  0.299483   \n",
       "\n",
       "               VR  \n",
       "Prod     0.323182  \n",
       "Well    -0.007279  \n",
       "Por      0.111860  \n",
       "Perm     0.051023  \n",
       "AI       0.499143  \n",
       "Brittle  0.317929  \n",
       "TOC      0.299483  \n",
       "VR       1.000000  "
      ],
      "text/html": [
       "<div>\n",
       "<style scoped>\n",
       "    .dataframe tbody tr th:only-of-type {\n",
       "        vertical-align: middle;\n",
       "    }\n",
       "\n",
       "    .dataframe tbody tr th {\n",
       "        vertical-align: top;\n",
       "    }\n",
       "\n",
       "    .dataframe thead th {\n",
       "        text-align: right;\n",
       "    }\n",
       "</style>\n",
       "<table border=\"1\" class=\"dataframe\">\n",
       "  <thead>\n",
       "    <tr style=\"text-align: right;\">\n",
       "      <th></th>\n",
       "      <th>Prod</th>\n",
       "      <th>Well</th>\n",
       "      <th>Por</th>\n",
       "      <th>Perm</th>\n",
       "      <th>AI</th>\n",
       "      <th>Brittle</th>\n",
       "      <th>TOC</th>\n",
       "      <th>VR</th>\n",
       "    </tr>\n",
       "  </thead>\n",
       "  <tbody>\n",
       "    <tr>\n",
       "      <th>Prod</th>\n",
       "      <td>1.000000</td>\n",
       "      <td>0.026817</td>\n",
       "      <td>0.861910</td>\n",
       "      <td>0.727426</td>\n",
       "      <td>-0.390835</td>\n",
       "      <td>0.237155</td>\n",
       "      <td>0.654445</td>\n",
       "      <td>0.323182</td>\n",
       "    </tr>\n",
       "    <tr>\n",
       "      <th>Well</th>\n",
       "      <td>0.026817</td>\n",
       "      <td>1.000000</td>\n",
       "      <td>0.068927</td>\n",
       "      <td>0.077928</td>\n",
       "      <td>0.041483</td>\n",
       "      <td>-0.079252</td>\n",
       "      <td>0.022624</td>\n",
       "      <td>-0.007279</td>\n",
       "    </tr>\n",
       "    <tr>\n",
       "      <th>Por</th>\n",
       "      <td>0.861910</td>\n",
       "      <td>0.068927</td>\n",
       "      <td>1.000000</td>\n",
       "      <td>0.760546</td>\n",
       "      <td>-0.461549</td>\n",
       "      <td>-0.218570</td>\n",
       "      <td>0.711831</td>\n",
       "      <td>0.111860</td>\n",
       "    </tr>\n",
       "    <tr>\n",
       "      <th>Perm</th>\n",
       "      <td>0.727426</td>\n",
       "      <td>0.077928</td>\n",
       "      <td>0.760546</td>\n",
       "      <td>1.000000</td>\n",
       "      <td>-0.239636</td>\n",
       "      <td>-0.124017</td>\n",
       "      <td>0.471746</td>\n",
       "      <td>0.051023</td>\n",
       "    </tr>\n",
       "    <tr>\n",
       "      <th>AI</th>\n",
       "      <td>-0.390835</td>\n",
       "      <td>0.041483</td>\n",
       "      <td>-0.461549</td>\n",
       "      <td>-0.239636</td>\n",
       "      <td>1.000000</td>\n",
       "      <td>0.127599</td>\n",
       "      <td>-0.531864</td>\n",
       "      <td>0.499143</td>\n",
       "    </tr>\n",
       "    <tr>\n",
       "      <th>Brittle</th>\n",
       "      <td>0.237155</td>\n",
       "      <td>-0.079252</td>\n",
       "      <td>-0.218570</td>\n",
       "      <td>-0.124017</td>\n",
       "      <td>0.127599</td>\n",
       "      <td>1.000000</td>\n",
       "      <td>-0.214282</td>\n",
       "      <td>0.317929</td>\n",
       "    </tr>\n",
       "    <tr>\n",
       "      <th>TOC</th>\n",
       "      <td>0.654445</td>\n",
       "      <td>0.022624</td>\n",
       "      <td>0.711831</td>\n",
       "      <td>0.471746</td>\n",
       "      <td>-0.531864</td>\n",
       "      <td>-0.214282</td>\n",
       "      <td>1.000000</td>\n",
       "      <td>0.299483</td>\n",
       "    </tr>\n",
       "    <tr>\n",
       "      <th>VR</th>\n",
       "      <td>0.323182</td>\n",
       "      <td>-0.007279</td>\n",
       "      <td>0.111860</td>\n",
       "      <td>0.051023</td>\n",
       "      <td>0.499143</td>\n",
       "      <td>0.317929</td>\n",
       "      <td>0.299483</td>\n",
       "      <td>1.000000</td>\n",
       "    </tr>\n",
       "  </tbody>\n",
       "</table>\n",
       "</div>"
      ]
     },
     "execution_count": 111,
     "metadata": {},
     "output_type": "execute_result"
    }
   ],
   "execution_count": 111
  },
  {
   "metadata": {
    "ExecuteTime": {
     "end_time": "2024-12-01T11:18:55.703389Z",
     "start_time": "2024-12-01T11:18:55.537718Z"
    }
   },
   "cell_type": "code",
   "source": [
    "# Построение тепловой карты\n",
    "plt.figure(figsize=(20, 10))  # Устанавливаем размер графика\n",
    "sns.heatmap(df_corr, annot=True, cmap='coolwarm', center=0)  # Строим саму карту\n",
    "\n",
    "# Показываем график\n",
    "plt.show()"
   ],
   "id": "62218a153aa4ab39",
   "outputs": [
    {
     "data": {
      "text/plain": [
       "<Figure size 2000x1000 with 2 Axes>"
      ],
      "image/png": "[encoded data removed]"
     },
     "metadata": {},
     "output_type": "display_data"
    }
   ],
   "execution_count": 112
  },
  {
   "metadata": {
    "ExecuteTime": {
     "end_time": "2024-12-01T11:18:55.807103Z",
     "start_time": "2024-12-01T11:18:55.803868Z"
    }
   },
   "cell_type": "code",
   "source": [
    "print(f'Ранг матрицы: ', np.linalg.matrix_rank(df_corr))\n",
    "print(f'Определитель матрицы: ', np.linalg.det(df_corr))\n"
   ],
   "id": "8f43f176626ac103",
   "outputs": [
    {
     "name": "stdout",
     "output_type": "stream",
     "text": [
      "Ранг матрицы:  8\n",
      "Определитель матрицы:  0.0007299388072651999\n"
     ]
    }
   ],
   "execution_count": 113
  },
  {
   "cell_type": "markdown",
   "id": "9a56013d",
   "metadata": {
    "id": "9a56013d"
   },
   "source": [
    "> *Ваши выводы здесь*\n",
    "\n",
    "1. \"Какие факторы сильнее всего коррелируют с целевой переменной?\":\\\n",
    "Por, Perm, TOC\n",
    "2. \"Является ли корреляционная матрица плохо обусловенной (близок ли её опредитель к нулю)?\":\\\n",
    "Да, является. Её определитель 0.007 близок к 0\n",
    "3. \"Что вы можете сказать о наличии коллинераности/мультиколлинеарности в данных?\":\\\n",
    "Коллинеарных векторов в матрице нет, т.к. ее ранг соответствует размеру и в матрице на пересечениях нет значений 1.\\\n",
    "Однако присутствует мультиколлинеарность, т.к. определитель стремится к 0"
   ]
  },
  {
   "cell_type": "markdown",
   "id": "43fd91c4",
   "metadata": {
    "id": "43fd91c4"
   },
   "source": [
    "### Задание 5.2. (2 балла)\n",
    "\n",
    "Создайте матрицу наблюдений `X` и вектор правильных ответов `y`. В качестве факторов для матрицы наблюдений возьмите все имеющиеся в данных признаки. \n",
    "\n",
    "Постройте модель линейной регрессии по методу наименьших квадратов. Для этого воспользуйтесь матричной формулой МНК и инструментарием библиотеки numpy. \n",
    "\n",
    "Выведите на экран полученные оценки коэффициентов модели, округлённые до целого.\n",
    "\n",
    "Приведите подробные выводы по полученным результатам, ответив на следующие вопросы:\n",
    "* Есть ли в ваших данных признаки, которые, согласно модели, можно назвать неинформативными, то есть они не оказывают влияния на целевую переменную или оказывают шумовое влияние?\n",
    "* Приведите интерпретацию нескольких (двух или трёх) коэффициентов полученной модели линейной регрессии.\n"
   ]
  },
  {
   "cell_type": "markdown",
   "source": [
    "**Критерии оценивания:**\n",
    "- Задание выполнено верно, учтены все условия (**2 балла**): \n",
    "    * приведён код для нахождения параметров модели линейной регрессии с помощью матричной формулы МНК;\n",
    "    * на основе полученных параметров даны верные ответы на поставленные вопросы;\n",
    "    * приведена корректная интерпретация нескольких коэффициентов полученной модели линейной регрессии.\n",
    "\n",
    "- Задание выполнено верно, но не учтено одно из условий (**1 балл**).\n",
    "- Задание выполнено неверно, не учтено несколько условий (**0 баллов**)."
   ],
   "metadata": {
    "id": "QtNtTUzI4Cpq"
   },
   "id": "QtNtTUzI4Cpq"
  },
  {
   "cell_type": "code",
   "id": "5724288c",
   "metadata": {
    "id": "5724288c",
    "ExecuteTime": {
     "end_time": "2024-12-01T11:18:56.042197Z",
     "start_time": "2024-12-01T11:18:56.038927Z"
    }
   },
   "source": [
    "x = df.copy()\n",
    "del x['Prod']\n",
    "y = df['Prod']\n",
    "x = np.column_stack((np.ones(200), x.values))"
   ],
   "outputs": [],
   "execution_count": 114
  },
  {
   "metadata": {
    "ExecuteTime": {
     "end_time": "2024-12-01T11:18:56.135431Z",
     "start_time": "2024-12-01T11:18:56.132310Z"
    }
   },
   "cell_type": "code",
   "source": [
    "# вычислим OLS-оценку для коэффициентов\n",
    "w_hat = np.round(np.linalg.inv(x.T@x)@x.T@y, 0)\n",
    "print('w_hat: ', w_hat)"
   ],
   "id": "998b915a49c55d92",
   "outputs": [
    {
     "name": "stdout",
     "output_type": "stream",
     "text": [
      "w_hat:  [-1232.     0.   230.   116.  -365.    25.   -78.   785.]\n"
     ]
    }
   ],
   "execution_count": 115
  },
  {
   "cell_type": "markdown",
   "id": "bab9ee21",
   "metadata": {
    "id": "bab9ee21"
   },
   "source": [
    "> *Ваши выводы здесь*\n",
    "\n",
    "К неинформативным признакам можно отнести признак \"Well\", т.к. он не оказывает никакого влияния на \"Prod\"\\\n",
    "Так же очень слабой связью обладает признак \"Brittle\".\n",
    "\n",
    "Признаки \"VR\", \"AI\" обладают слабой связью.\n",
    "\n",
    "А вот признаки \"Por\" и \"Perm\" обладают уже сильной связью с признаком \"Prod\" и оказывают довольно большое влияние."
   ]
  },
  {
   "cell_type": "markdown",
   "id": "4a05a4ac",
   "metadata": {
    "id": "4a05a4ac"
   },
   "source": [
    "### Задание 5.3. (1 балл)\n",
    "\n",
    "Теперь потренируемся строить предсказание для наблюдений целевой переменной. \n",
    "\n",
    "**а)** Постройте прогноз выработки газа для скважины со следующими параметрами:\n",
    "\n",
    "```python\n",
    "{\n",
    "    'Well': 106.0,\n",
    "    'Por': 15.32,\n",
    "    'Perm': 3.71,\n",
    "    'AI': 3.29,\n",
    "    'Brittle': 55.99,\n",
    "    'TOC': 1.35,\n",
    "    'VR': 2.42\n",
    " }\n",
    "```\n",
    "\n",
    "Рассчитайте абсолютную ошибку построенного вами прогноза для предложенной скважины (в миллионах кубических футов в день), если известно, что на этой скважине производится `4748.315024` миллионов кубических футов газа в день. \n",
    "\n",
    "**б)** Постройте прогноз выработки газа для всех скважин из обучающего набора данных. Выберите метрику, по которой вы будете оценивать качество регрессионных моделей и сравнивать их между собой (можно использовать несколько метрик, но не более двух).\n",
    "\n",
    "Рассчитайте значение выбранной метрики для вашей модели. Приведите интерпретацию полученного результата. "
   ]
  },
  {
   "cell_type": "markdown",
   "source": [
    "**Критерии оценивания:**\n",
    "- Задание выполнено верно, учтены все условия (**1 балл**): \n",
    "    * приведён код для построения прогноза выработки газа на указанной скважине и рассчитана абсолютная ошибка прогноза для этой скважины;\n",
    "    * выбрана корректная для поставленной задачи метрика (или метрики) оценки качества модели и приведён код для расчёта этой метрики на всём обучающем наборе данных;\n",
    "    * приведена корректная интерпретация полученного результата.\n",
    "\n",
    "- Задание выполнено верно, но не учтено одно из условий, или задание выполнено неверно (**0 баллов**)."
   ],
   "metadata": {
    "id": "qUDcep5Q5GWU"
   },
   "id": "qUDcep5Q5GWU"
  },
  {
   "metadata": {
    "id": "e4291db0",
    "ExecuteTime": {
     "end_time": "2024-12-01T11:18:56.221681Z",
     "start_time": "2024-12-01T11:18:56.218823Z"
    }
   },
   "cell_type": "code",
   "source": [
    "new_d = {\n",
    "    'Well': 106.0,\n",
    "    'Por': 15.32,\n",
    "    'Perm': 3.71,\n",
    "    'AI': 3.29,\n",
    "    'Brittle': 55.99,\n",
    "    'TOC': 1.35,\n",
    "    'VR': 2.42\n",
    " }\n",
    "new = np.array([[1, *new_d.values()]])\n",
    "new_v = (new@w_hat)[0]\n",
    "print('prediction:', new_v)"
   ],
   "id": "e4291db0",
   "outputs": [
    {
     "name": "stdout",
     "output_type": "stream",
     "text": [
      "prediction: 4715.26\n"
     ]
    }
   ],
   "execution_count": 116
  },
  {
   "metadata": {
    "ExecuteTime": {
     "end_time": "2024-12-01T11:18:56.287062Z",
     "start_time": "2024-12-01T11:18:56.283612Z"
    }
   },
   "cell_type": "code",
   "source": [
    "real_v = 4748.315024\n",
    "ab_err = round(real_v - new_v, 6)\n",
    "print(f'Абсолютная ошибка: {ab_err}')"
   ],
   "id": "56d296916befbb07",
   "outputs": [
    {
     "name": "stdout",
     "output_type": "stream",
     "text": [
      "Абсолютная ошибка: 33.055024\n"
     ]
    }
   ],
   "execution_count": 117
  },
  {
   "metadata": {
    "ExecuteTime": {
     "end_time": "2024-12-01T11:18:56.374603Z",
     "start_time": "2024-12-01T11:18:56.372402Z"
    }
   },
   "cell_type": "code",
   "source": "x = pd.DataFrame(x)",
   "id": "6446e843f95d9512",
   "outputs": [],
   "execution_count": 118
  },
  {
   "metadata": {
    "ExecuteTime": {
     "end_time": "2024-12-01T11:18:56.430182Z",
     "start_time": "2024-12-01T11:18:56.425729Z"
    }
   },
   "cell_type": "code",
   "source": [
    "d = pd.DataFrame()\n",
    "d['prod'] = x.apply(lambda z: (z@w_hat), axis=1)"
   ],
   "id": "b978e897051dcd1b",
   "outputs": [],
   "execution_count": 119
  },
  {
   "metadata": {
    "ExecuteTime": {
     "end_time": "2024-12-01T11:18:56.469467Z",
     "start_time": "2024-12-01T11:18:56.467230Z"
    }
   },
   "cell_type": "code",
   "source": "df.insert(0, 'prod_p', d['prod'])",
   "id": "fb5a377db3bad2f9",
   "outputs": [],
   "execution_count": 120
  },
  {
   "metadata": {
    "ExecuteTime": {
     "end_time": "2024-12-01T11:39:34.365422Z",
     "start_time": "2024-12-01T11:39:34.362261Z"
    }
   },
   "cell_type": "code",
   "source": [
    "mae = np.mean(np.abs(df['Prod'] - df['prod_p']))\n",
    "print(f'Средняя абсолютная ошибка: {mae}')\n",
    "\n",
    "mse = np.mean((df['Prod'] - df['prod_p']) ** 2)\n",
    "print(f'Средняя квадратичная ошибка: {mse}')"
   ],
   "id": "8527fcdb28370f4e",
   "outputs": [
    {
     "name": "stdout",
     "output_type": "stream",
     "text": [
      "Средняя абсолютная ошибка: 154.55804282999995\n",
      "Средняя квадратичная ошибка: 39384.74080127818\n"
     ]
    }
   ],
   "execution_count": 176
  },
  {
   "cell_type": "markdown",
   "id": "c9bee4bc",
   "metadata": {
    "id": "c9bee4bc"
   },
   "source": [
    "> *Ваши выводы здесь*\n",
    "\n",
    "Для оценки качества модели выбраны метрики оценки качества MAE и MSE.\n",
    "\n",
    "MAE = 154.558 - указывает на то, что в среднем предсказанные значения отличаются от реальных на 154.558 единиц\n",
    "\n",
    "MSE = 39385 - указывает на то, что в предсказаниях присутствуют большие ошибки. Опираясь на этот показать при сравнении\\\n",
    "с другими моделями можно будет сравнить влияние выбросов."
   ]
  },
  {
   "cell_type": "markdown",
   "id": "0c25c3aa",
   "metadata": {
    "id": "0c25c3aa"
   },
   "source": [
    "### Задание 5.4. (1 балл)\n",
    "\n",
    "Настало время анализа построенной модели. Посмотрите на коэффициенты и сравните их знаки со значениями выборочных корреляций между целевым признаком и факторами, которые вы нашли ранее.\n",
    "\n",
    "Дайте развёрнутые ответы на следующие вопросы:\n",
    "\n",
    "* Есть ли в вашей модели фактор, при котором коэффициент в модели линейной регрессии противоречит соответствующему коэффициенту корреляции? Например, корреляция говорит, что зависимость между фактором и целевой переменной прямая, а модель говорит обратное. Если таких факторов несколько, укажите их все.\n",
    "* Как вы считаете, с чем связано полученное противоречие результатов?"
   ]
  },
  {
   "cell_type": "markdown",
   "source": [
    "**Критерии оценивания:**\n",
    "\n",
    "- Задание выполнено верно, даны корректные развёрнутые ответы на все поставленные в задании вопросы (**1 балл**). \n",
    "\n",
    "- Задание выполнено неверно, даны некорректные ответы на один или несколько поставленных в задании вопросов (**0 баллов**)."
   ],
   "metadata": {
    "id": "ngJ3UdYb6Ll6"
   },
   "id": "ngJ3UdYb6Ll6"
  },
  {
   "cell_type": "code",
   "source": "w_hat",
   "metadata": {
    "id": "v-zIxRPY9wK7",
    "ExecuteTime": {
     "end_time": "2024-12-01T11:18:56.639973Z",
     "start_time": "2024-12-01T11:18:56.636992Z"
    }
   },
   "id": "v-zIxRPY9wK7",
   "outputs": [
    {
     "data": {
      "text/plain": [
       "array([-1232.,     0.,   230.,   116.,  -365.,    25.,   -78.,   785.])"
      ]
     },
     "execution_count": 123,
     "metadata": {},
     "output_type": "execute_result"
    }
   ],
   "execution_count": 123
  },
  {
   "cell_type": "markdown",
   "source": [
    "> *Ваши выводы здесь*\n",
    "\n",
    "Коэфф. корреляции \"TOC\" 0.65 противоречит коэффициенту в модели линейной регрессии -78.\\\n",
    "Зависимость должна быть линейной, а получилась обратной.\n",
    "\n",
    "Противоречие может быть связано с:\n",
    "1. мультиколлинеарностью - на значение повлияла корреляция \"TOC\" с другими параметрами\n",
    "2. выбросами данных"
   ],
   "metadata": {
    "id": "qeowwIp99yBf"
   },
   "id": "qeowwIp99yBf"
  },
  {
   "cell_type": "markdown",
   "id": "9cea9195",
   "metadata": {
    "id": "9cea9195"
   },
   "source": [
    "### Задание 5.5. (2 балла)\n",
    "\n",
    "* Исключите из данных сильно коррелированные между собой факторы. Под сильной корреляцией в данной задаче будем понимать значения выше `0.7`.\n",
    "\n",
    "Выбирая, какой из коррелированных факторов оставить, руководствуйтесь коэффициентом корреляции с целевой переменной: оставляйте тот фактор, который больше всего коррелирует с целевой переменной (объёмом добычи газа).\n",
    "\n",
    "* Также исключите из данных факторы, для которых корреляция с целевой переменной меньше `0.05`.\n",
    "\n",
    "Постройте модель линейной регрессии на обновлённых после удаления факторов данных по методу наименьших квадратов. Для этого используйте матричную формулу и библиотеку numpy. Выведите значение полученных коэффициентов, округлённых до целого.\n",
    "\n",
    "Сделайте прогноз для всего обучающего набора данных и рассчитайте выбранную вами ранее метрику (или метрики). \n",
    "\n",
    "Дайте подробные ответы на следующие вопросы:\n",
    "\n",
    "* Приведите интерпретацию нескольких полученных коэффициентов (двух или трёх). Сравните их значения с полученными ранее.\n",
    "* Приведите интерпретацию полученных значений метрик. Сравните их значения с полученными ранее. \n",
    "* Удалось ли вам побороть противоречие коэффициентов линейной регрессии и коэффициентов корреляции?"
   ]
  },
  {
   "cell_type": "markdown",
   "source": [
    "**Критерии оценивания:**\n",
    "- Задание выполнено верно, учтены все условия (**2 балла**): \n",
    "    * отобраны верные факторы;\n",
    "    * на основе отобранных факторов построена модель линейной регрессии с помощью матричной формулы МНК и найдены параметры модели, соответствующие каждому из факторов;\n",
    "    * построен прогноз для всего обучающего набора данных и рассчитано значение метрики (метрика должна быть выбрана корректно);\n",
    "    * даны ответы на все поставленные в задании вопросы.\n",
    "\n",
    "- Задание выполнено верно, но не учтено одно из условий (**1 балл**).\n",
    "- Задание выполнено верно, не учтено несколько из условий (**0 баллов**)."
   ],
   "metadata": {
    "id": "vlUYVjJP6oXN"
   },
   "id": "vlUYVjJP6oXN"
  },
  {
   "metadata": {
    "ExecuteTime": {
     "end_time": "2024-12-01T11:42:34.710536Z",
     "start_time": "2024-12-01T11:42:34.706917Z"
    }
   },
   "cell_type": "code",
   "source": [
    "x = df.copy()\n",
    "y = df['Prod']\n",
    "x.drop(['prod_p', 'Perm', 'TOC', 'Well'], axis=1, inplace=True)"
   ],
   "id": "cbf8b9d167743f11",
   "outputs": [],
   "execution_count": 178
  },
  {
   "metadata": {
    "ExecuteTime": {
     "end_time": "2024-12-01T11:42:35.745557Z",
     "start_time": "2024-12-01T11:42:35.627032Z"
    }
   },
   "cell_type": "code",
   "source": [
    "# Построение тепловой карты\n",
    "plt.figure(figsize=(20, 10))  # Устанавливаем размер графика\n",
    "sns.heatmap(x.corr(), annot=True, cmap='coolwarm', center=0)  # Строим саму карту\n",
    "\n",
    "# Показываем график\n",
    "plt.show()"
   ],
   "id": "244759b9e0e2f4cd",
   "outputs": [
    {
     "data": {
      "text/plain": [
       "<Figure size 2000x1000 with 2 Axes>"
      ],
      "image/png": "[encoded data removed]"
     },
     "metadata": {},
     "output_type": "display_data"
    }
   ],
   "execution_count": 179
  },
  {
   "metadata": {
    "ExecuteTime": {
     "end_time": "2024-12-01T11:42:38.208129Z",
     "start_time": "2024-12-01T11:42:38.205317Z"
    }
   },
   "cell_type": "code",
   "source": "x.drop(['Prod'], axis=1, inplace=True)",
   "id": "9fc3a7c3f51ba344",
   "outputs": [],
   "execution_count": 180
  },
  {
   "metadata": {
    "ExecuteTime": {
     "end_time": "2024-12-01T11:42:40.056407Z",
     "start_time": "2024-12-01T11:42:40.050246Z"
    }
   },
   "cell_type": "code",
   "source": "x",
   "id": "b5cff92669ffb2c5",
   "outputs": [
    {
     "data": {
      "text/plain": [
       "       Por    AI  Brittle    VR\n",
       "0    12.08  2.80    81.40  2.31\n",
       "1    12.38  3.22    46.17  1.88\n",
       "2    14.02  4.01    72.80  2.72\n",
       "3    17.67  2.63    39.81  1.88\n",
       "4    17.52  3.18    10.94  1.90\n",
       "..     ...   ...      ...   ...\n",
       "195  11.95  2.97    67.18  2.06\n",
       "196  17.99  3.38    44.32  2.08\n",
       "197  12.12  3.52    57.07  1.73\n",
       "198  15.55  2.48    58.25  2.35\n",
       "199  20.89  3.23    46.17  2.27\n",
       "\n",
       "[200 rows x 4 columns]"
      ],
      "text/html": [
       "<div>\n",
       "<style scoped>\n",
       "    .dataframe tbody tr th:only-of-type {\n",
       "        vertical-align: middle;\n",
       "    }\n",
       "\n",
       "    .dataframe tbody tr th {\n",
       "        vertical-align: top;\n",
       "    }\n",
       "\n",
       "    .dataframe thead th {\n",
       "        text-align: right;\n",
       "    }\n",
       "</style>\n",
       "<table border=\"1\" class=\"dataframe\">\n",
       "  <thead>\n",
       "    <tr style=\"text-align: right;\">\n",
       "      <th></th>\n",
       "      <th>Por</th>\n",
       "      <th>AI</th>\n",
       "      <th>Brittle</th>\n",
       "      <th>VR</th>\n",
       "    </tr>\n",
       "  </thead>\n",
       "  <tbody>\n",
       "    <tr>\n",
       "      <th>0</th>\n",
       "      <td>12.08</td>\n",
       "      <td>2.80</td>\n",
       "      <td>81.40</td>\n",
       "      <td>2.31</td>\n",
       "    </tr>\n",
       "    <tr>\n",
       "      <th>1</th>\n",
       "      <td>12.38</td>\n",
       "      <td>3.22</td>\n",
       "      <td>46.17</td>\n",
       "      <td>1.88</td>\n",
       "    </tr>\n",
       "    <tr>\n",
       "      <th>2</th>\n",
       "      <td>14.02</td>\n",
       "      <td>4.01</td>\n",
       "      <td>72.80</td>\n",
       "      <td>2.72</td>\n",
       "    </tr>\n",
       "    <tr>\n",
       "      <th>3</th>\n",
       "      <td>17.67</td>\n",
       "      <td>2.63</td>\n",
       "      <td>39.81</td>\n",
       "      <td>1.88</td>\n",
       "    </tr>\n",
       "    <tr>\n",
       "      <th>4</th>\n",
       "      <td>17.52</td>\n",
       "      <td>3.18</td>\n",
       "      <td>10.94</td>\n",
       "      <td>1.90</td>\n",
       "    </tr>\n",
       "    <tr>\n",
       "      <th>...</th>\n",
       "      <td>...</td>\n",
       "      <td>...</td>\n",
       "      <td>...</td>\n",
       "      <td>...</td>\n",
       "    </tr>\n",
       "    <tr>\n",
       "      <th>195</th>\n",
       "      <td>11.95</td>\n",
       "      <td>2.97</td>\n",
       "      <td>67.18</td>\n",
       "      <td>2.06</td>\n",
       "    </tr>\n",
       "    <tr>\n",
       "      <th>196</th>\n",
       "      <td>17.99</td>\n",
       "      <td>3.38</td>\n",
       "      <td>44.32</td>\n",
       "      <td>2.08</td>\n",
       "    </tr>\n",
       "    <tr>\n",
       "      <th>197</th>\n",
       "      <td>12.12</td>\n",
       "      <td>3.52</td>\n",
       "      <td>57.07</td>\n",
       "      <td>1.73</td>\n",
       "    </tr>\n",
       "    <tr>\n",
       "      <th>198</th>\n",
       "      <td>15.55</td>\n",
       "      <td>2.48</td>\n",
       "      <td>58.25</td>\n",
       "      <td>2.35</td>\n",
       "    </tr>\n",
       "    <tr>\n",
       "      <th>199</th>\n",
       "      <td>20.89</td>\n",
       "      <td>3.23</td>\n",
       "      <td>46.17</td>\n",
       "      <td>2.27</td>\n",
       "    </tr>\n",
       "  </tbody>\n",
       "</table>\n",
       "<p>200 rows × 4 columns</p>\n",
       "</div>"
      ]
     },
     "execution_count": 181,
     "metadata": {},
     "output_type": "execute_result"
    }
   ],
   "execution_count": 181
  },
  {
   "metadata": {
    "ExecuteTime": {
     "end_time": "2024-12-01T11:42:41.867878Z",
     "start_time": "2024-12-01T11:42:41.864375Z"
    }
   },
   "cell_type": "code",
   "source": [
    "print(f'Ранг матрицы: ', np.linalg.matrix_rank(x.corr()))\n",
    "print(f'Определитель матрицы: ', np.linalg.det(x.corr()))"
   ],
   "id": "45f5117b488a6320",
   "outputs": [
    {
     "name": "stdout",
     "output_type": "stream",
     "text": [
      "Ранг матрицы:  4\n",
      "Определитель матрицы:  0.3682630361164221\n"
     ]
    }
   ],
   "execution_count": 182
  },
  {
   "metadata": {
    "id": "5d5ZJ0lX_UHe",
    "ExecuteTime": {
     "end_time": "2024-12-01T11:42:44.738850Z",
     "start_time": "2024-12-01T11:42:44.735989Z"
    }
   },
   "cell_type": "code",
   "source": "x = np.column_stack((np.ones(200), x.values))",
   "id": "5d5ZJ0lX_UHe",
   "outputs": [],
   "execution_count": 183
  },
  {
   "metadata": {
    "ExecuteTime": {
     "end_time": "2024-12-01T11:42:46.956186Z",
     "start_time": "2024-12-01T11:42:46.952378Z"
    }
   },
   "cell_type": "code",
   "source": [
    "w_hat = np.round(np.linalg.inv(x.T@x)@x.T@y, 0)\n",
    "print('w_hat: ', w_hat)"
   ],
   "id": "92fd5359396940a4",
   "outputs": [
    {
     "name": "stdout",
     "output_type": "stream",
     "text": [
      "w_hat:  [-1835.   293.  -200.    28.   517.]\n"
     ]
    }
   ],
   "execution_count": 184
  },
  {
   "metadata": {
    "ExecuteTime": {
     "end_time": "2024-12-01T11:42:50.414992Z",
     "start_time": "2024-12-01T11:42:50.410292Z"
    }
   },
   "cell_type": "code",
   "source": [
    "x = pd.DataFrame(x)\n",
    "d = pd.DataFrame()\n",
    "d['prod'] = x.apply(lambda z: (z@w_hat), axis=1)"
   ],
   "id": "41d3f1c20566057b",
   "outputs": [],
   "execution_count": 185
  },
  {
   "metadata": {
    "ExecuteTime": {
     "end_time": "2024-12-01T11:42:52.184605Z",
     "start_time": "2024-12-01T11:42:52.182326Z"
    }
   },
   "cell_type": "code",
   "source": "y = pd.DataFrame(y)",
   "id": "279e4c11f7881e7f",
   "outputs": [],
   "execution_count": 186
  },
  {
   "metadata": {
    "ExecuteTime": {
     "end_time": "2024-12-01T11:42:53.698557Z",
     "start_time": "2024-12-01T11:42:53.695305Z"
    }
   },
   "cell_type": "code",
   "source": [
    "mae = np.mean(np.abs(y['Prod'] - d['prod']))\n",
    "print(f'Средняя абсолютная ошибка: {mae}')\n",
    "\n",
    "mse = np.mean((y['Prod'] - d['prod']) ** 2)\n",
    "print(f'Средняя квадратичная ошибка: {mse}')"
   ],
   "id": "4c584c3828871b45",
   "outputs": [
    {
     "name": "stdout",
     "output_type": "stream",
     "text": [
      "Средняя абсолютная ошибка: 171.86829464000002\n",
      "Средняя квадратичная ошибка: 53958.43717716489\n"
     ]
    }
   ],
   "execution_count": 187
  },
  {
   "cell_type": "markdown",
   "source": [
    "> *Ваши выводы здесь*\n",
    "\n",
    "1. Коэффициенты w_hat по направлению соответствуют матрице корреляции\n",
    "2. Коэффициенты при Por, AI, VR ощутимо изменились после удаления связанных с ними векторов\n",
    "3. Ошибки MAE и MSE ощутимо возросли"
   ],
   "metadata": {
    "id": "KxbYvMDo_WLe"
   },
   "id": "KxbYvMDo_WLe"
  },
  {
   "cell_type": "markdown",
   "id": "7d50db12",
   "metadata": {
    "id": "7d50db12"
   },
   "source": [
    "### Задание 5.6. (1 балл)\n",
    "\n",
    "Наконец, давайте построим модель линейной регрессии из библиотеки `scikit-learn (sklearn)` и сравним результаты её работы с теми, что нам удалось получить вручную. \n",
    "\n",
    "Постройте модель линейной регрессии на обновлённых после удаления факторов данных по методу наименьших квадратов. Для этого воспользуйтесь классом `LinearRegression` из библиотеки `sklearn`. Выведите значения полученных коэффициентов, округлённые до целого.\n",
    "\n",
    "Сделайте прогноз для всего обучающего набора данных и рассчитайте значение выбранной вами метрики (или метрик).\n",
    "\n",
    "Сравните результаты библиотечной реализации с тем, что вы получили ранее. "
   ]
  },
  {
   "cell_type": "markdown",
   "source": [
    "**Критерии оценивания:**\n",
    "\n",
    "- Задание выполнено верно, учтены все условия (**1 балл**): \n",
    "    * на основе отобранных факторов построена модель линейной регрессии из библиотеки sklearn и найдены параметры модели, соответствующие каждому из факторов;\n",
    "    * построен прогноз для всего обучающего набора данных и рассчитано значение метрики (метрика должна быть выбрана корректно);\n",
    "    * приведён вывод о соответствии результатов, полученных вручную и с помощью библиотеки.\n",
    "- Задание выполнено неверно, не учтено одно или несколько условий (**0 баллов**)."
   ],
   "metadata": {
    "id": "emu5D3w278JP"
   },
   "id": "emu5D3w278JP"
  },
  {
   "cell_type": "code",
   "source": [
    "model = LinearRegression(fit_intercept=False)\n",
    "model.fit(x, y)\n",
    "print('w_hat:', np.round(model.coef_, 0))"
   ],
   "metadata": {
    "id": "Gpdpfq59AKGu",
    "ExecuteTime": {
     "end_time": "2024-12-01T12:16:04.193926Z",
     "start_time": "2024-12-01T12:16:04.189694Z"
    }
   },
   "id": "Gpdpfq59AKGu",
   "outputs": [
    {
     "name": "stdout",
     "output_type": "stream",
     "text": [
      "w_hat: [[-1835.   293.  -200.    28.   517.]]\n"
     ]
    }
   ],
   "execution_count": 190
  },
  {
   "metadata": {
    "ExecuteTime": {
     "end_time": "2024-12-01T12:22:12.772977Z",
     "start_time": "2024-12-01T12:22:12.769423Z"
    }
   },
   "cell_type": "code",
   "source": "d = pd.DataFrame(model.predict(x), columns=['prod'])",
   "id": "6a9b03b811c3f066",
   "outputs": [],
   "execution_count": 197
  },
  {
   "metadata": {
    "ExecuteTime": {
     "end_time": "2024-12-01T12:22:13.708805Z",
     "start_time": "2024-12-01T12:22:13.705229Z"
    }
   },
   "cell_type": "code",
   "source": [
    "mae = np.mean(np.abs(y['Prod'] - d['prod']))\n",
    "print(f'Средняя абсолютная ошибка: {mae}')\n",
    "\n",
    "mse = np.mean((y['Prod'] - d['prod']) ** 2)\n",
    "print(f'Средняя квадратичная ошибка: {mse}')"
   ],
   "id": "260f82d9b4ec8065",
   "outputs": [
    {
     "name": "stdout",
     "output_type": "stream",
     "text": [
      "Средняя абсолютная ошибка: 171.4314605958078\n",
      "Средняя квадратичная ошибка: 53660.85457923532\n"
     ]
    }
   ],
   "execution_count": 198
  },
  {
   "cell_type": "markdown",
   "source": [
    "> *Ваши выводы здесь*\n",
    "\n",
    "1. Код - сильно проще)\n",
    "2. Результаты расчетов аналогичны ручному расчету "
   ],
   "metadata": {
    "id": "WT9cdHAbAMG7"
   },
   "id": "WT9cdHAbAMG7"
  },
  {
   "cell_type": "markdown",
   "id": "5346338e",
   "metadata": {
    "id": "5346338e"
   },
   "source": [
    "## Практика: полиномиальная регрессия и регуляризация"
   ]
  },
  {
   "cell_type": "markdown",
   "id": "aad9e3a6",
   "metadata": {
    "id": "aad9e3a6"
   },
   "source": [
    "Мы продолжаем работать над задачей от владельца компании «Газ-Таз-Ваз-Нефть» Василия.\n",
    "\n",
    "Ранее мы построили модель линейной регрессии, которая прогнозирует выработку газа на скважине. Для этого мы с помощью матрицы корреляций и рассуждений отобрали некоррелированные, значимые для предсказания признаки. **Далее мы будем использовать именно их (см. задание 5.5).**\n",
    "\n",
    "Мы хотим улучшить результат — уменьшить ошибку прогноза. Для этого мы воспользуемся моделью полиномиальной регрессии третьей степени. Однако теперь мы знаем, что полиномиальным моделям очень легко переобучиться под исходную выборку. Так как данных у нас не так много (всего 200 скважин), то для контроля качества модели мы будем использовать кросс-валидацию. \n",
    "\n",
    "Приступим! Выполните задания 8.1–8.5:\n"
   ]
  },
  {
   "cell_type": "code",
   "id": "18506d1b",
   "metadata": {
    "id": "18506d1b",
    "ExecuteTime": {
     "end_time": "2024-12-02T03:12:07.505458Z",
     "start_time": "2024-12-02T03:12:07.502349Z"
    }
   },
   "source": [
    "from sklearn.preprocessing import PolynomialFeatures, StandardScaler\n",
    "from sklearn.linear_model import LinearRegression, Lasso, Ridge, ElasticNet\n",
    "from sklearn.model_selection import GridSearchCV\n",
    "from sklearn.model_selection import cross_validate"
   ],
   "outputs": [],
   "execution_count": 199
  },
  {
   "cell_type": "markdown",
   "id": "bfbfea8d",
   "metadata": {
    "id": "bfbfea8d"
   },
   "source": [
    "### Задание 8.1. (1 балл)\n",
    "\n",
    "Стандаризируйте признаки с помощью `StandartScaler` из библиотеки `sklearn`. \n",
    "\n",
    "Затем сгенерируйте полиномиальные признаки третьего порядка на факторах, которые вы выбрали для обучения моделей. Для этого воспользуйтесь генератором полиномов `PolynomialFeatures` из библиотеки `sklearn`. Параметр `include_bias` установите в значение `False`.\n",
    "\n",
    "Выведите на экран, сколько факторов у вас получилось после генерации полиномиальных признаков.\n",
    "\n",
    "**Важно:** стандартизацию необходимо произвести до генерации полиномиальных факторов!\n",
    "\n",
    "Обучите модель линейной регрессии из библиотеки `sklearn` (`LinearRegression`) на полученных полиномиальных факторах.\n",
    "\n",
    "Используя кросс-валидацию оцените среднее значение выбранной вами метрики (или метрик) на тренировочных и валидационных фолдах.\n",
    "\n",
    "Проинтерпретируйте полученные результаты."
   ]
  },
  {
   "cell_type": "markdown",
   "source": [
    "**Критерии оценивания:**\n",
    "\n",
    "- Задание выполнено верно, учтены все условия (**1 балл**): \n",
    "    * на основе отобранных факторов сгенерированы полиномиальные признаки третьего порядка;\n",
    "    * построена модель полиномиальной регрессии (линейной регрессии на полиномиальных признаках);\n",
    "    * с помощью кросс-валидации оценено среднее значение выбранной студентом метрики (или метрик) на тренировочных и валидационных фолдах (метрика должна быть выбрана корректно).\n",
    "- Задание выполнено неверно, не учтено одно или несколько из условий (**0 баллов**)."
   ],
   "metadata": {
    "id": "Y8oAhQkr8gV-"
   },
   "id": "Y8oAhQkr8gV-"
  },
  {
   "cell_type": "code",
   "source": [
    "x_clean = df.copy()\n",
    "x_clean.drop(['Prod', 'prod_p', 'Perm', 'TOC', 'Well'], axis=1, inplace=True)\n",
    "x_clean"
   ],
   "metadata": {
    "ExecuteTime": {
     "end_time": "2024-12-02T03:58:23.054617Z",
     "start_time": "2024-12-02T03:58:23.048157Z"
    }
   },
   "id": "9da57419b66f0538",
   "outputs": [
    {
     "data": {
      "text/plain": [
       "       Por    AI  Brittle    VR\n",
       "0    12.08  2.80    81.40  2.31\n",
       "1    12.38  3.22    46.17  1.88\n",
       "2    14.02  4.01    72.80  2.72\n",
       "3    17.67  2.63    39.81  1.88\n",
       "4    17.52  3.18    10.94  1.90\n",
       "..     ...   ...      ...   ...\n",
       "195  11.95  2.97    67.18  2.06\n",
       "196  17.99  3.38    44.32  2.08\n",
       "197  12.12  3.52    57.07  1.73\n",
       "198  15.55  2.48    58.25  2.35\n",
       "199  20.89  3.23    46.17  2.27\n",
       "\n",
       "[200 rows x 4 columns]"
      ],
      "text/html": [
       "<div>\n",
       "<style scoped>\n",
       "    .dataframe tbody tr th:only-of-type {\n",
       "        vertical-align: middle;\n",
       "    }\n",
       "\n",
       "    .dataframe tbody tr th {\n",
       "        vertical-align: top;\n",
       "    }\n",
       "\n",
       "    .dataframe thead th {\n",
       "        text-align: right;\n",
       "    }\n",
       "</style>\n",
       "<table border=\"1\" class=\"dataframe\">\n",
       "  <thead>\n",
       "    <tr style=\"text-align: right;\">\n",
       "      <th></th>\n",
       "      <th>Por</th>\n",
       "      <th>AI</th>\n",
       "      <th>Brittle</th>\n",
       "      <th>VR</th>\n",
       "    </tr>\n",
       "  </thead>\n",
       "  <tbody>\n",
       "    <tr>\n",
       "      <th>0</th>\n",
       "      <td>12.08</td>\n",
       "      <td>2.80</td>\n",
       "      <td>81.40</td>\n",
       "      <td>2.31</td>\n",
       "    </tr>\n",
       "    <tr>\n",
       "      <th>1</th>\n",
       "      <td>12.38</td>\n",
       "      <td>3.22</td>\n",
       "      <td>46.17</td>\n",
       "      <td>1.88</td>\n",
       "    </tr>\n",
       "    <tr>\n",
       "      <th>2</th>\n",
       "      <td>14.02</td>\n",
       "      <td>4.01</td>\n",
       "      <td>72.80</td>\n",
       "      <td>2.72</td>\n",
       "    </tr>\n",
       "    <tr>\n",
       "      <th>3</th>\n",
       "      <td>17.67</td>\n",
       "      <td>2.63</td>\n",
       "      <td>39.81</td>\n",
       "      <td>1.88</td>\n",
       "    </tr>\n",
       "    <tr>\n",
       "      <th>4</th>\n",
       "      <td>17.52</td>\n",
       "      <td>3.18</td>\n",
       "      <td>10.94</td>\n",
       "      <td>1.90</td>\n",
       "    </tr>\n",
       "    <tr>\n",
       "      <th>...</th>\n",
       "      <td>...</td>\n",
       "      <td>...</td>\n",
       "      <td>...</td>\n",
       "      <td>...</td>\n",
       "    </tr>\n",
       "    <tr>\n",
       "      <th>195</th>\n",
       "      <td>11.95</td>\n",
       "      <td>2.97</td>\n",
       "      <td>67.18</td>\n",
       "      <td>2.06</td>\n",
       "    </tr>\n",
       "    <tr>\n",
       "      <th>196</th>\n",
       "      <td>17.99</td>\n",
       "      <td>3.38</td>\n",
       "      <td>44.32</td>\n",
       "      <td>2.08</td>\n",
       "    </tr>\n",
       "    <tr>\n",
       "      <th>197</th>\n",
       "      <td>12.12</td>\n",
       "      <td>3.52</td>\n",
       "      <td>57.07</td>\n",
       "      <td>1.73</td>\n",
       "    </tr>\n",
       "    <tr>\n",
       "      <th>198</th>\n",
       "      <td>15.55</td>\n",
       "      <td>2.48</td>\n",
       "      <td>58.25</td>\n",
       "      <td>2.35</td>\n",
       "    </tr>\n",
       "    <tr>\n",
       "      <th>199</th>\n",
       "      <td>20.89</td>\n",
       "      <td>3.23</td>\n",
       "      <td>46.17</td>\n",
       "      <td>2.27</td>\n",
       "    </tr>\n",
       "  </tbody>\n",
       "</table>\n",
       "<p>200 rows × 4 columns</p>\n",
       "</div>"
      ]
     },
     "execution_count": 234,
     "metadata": {},
     "output_type": "execute_result"
    }
   ],
   "execution_count": 234
  },
  {
   "metadata": {
    "id": "-ln3bx8NFNRw",
    "ExecuteTime": {
     "end_time": "2024-12-02T04:01:46.500848Z",
     "start_time": "2024-12-02T04:01:46.495511Z"
    }
   },
   "cell_type": "code",
   "source": [
    "x = x_clean.copy()\n",
    "y = df['Prod']\n",
    "\n",
    "scaler = StandardScaler()\n",
    "x_scale = scaler.fit_transform(x)\n",
    "\n",
    "poly = PolynomialFeatures(degree=3, include_bias=False)\n",
    "x_poly = poly.fit_transform(x_scale)\n",
    "pd.DataFrame(x_poly).shape"
   ],
   "id": "-ln3bx8NFNRw",
   "outputs": [
    {
     "data": {
      "text/plain": [
       "(200, 34)"
      ]
     },
     "execution_count": 237,
     "metadata": {},
     "output_type": "execute_result"
    }
   ],
   "execution_count": 237
  },
  {
   "metadata": {
    "ExecuteTime": {
     "end_time": "2024-12-02T04:01:47.916809Z",
     "start_time": "2024-12-02T04:01:47.901126Z"
    }
   },
   "cell_type": "code",
   "source": [
    "lr = LinearRegression()\n",
    "\n",
    "cv_results_lr_mae = cross_validate(lr, x_poly, y, scoring='neg_mean_absolute_error', cv=5, return_train_score=True)\n",
    "print('MAE на тренировочных фолдах: {:.2f} ед.'.format(-cv_results_lr_mae['train_score'].mean()))\n",
    "print('MAE на валидационных фолдах: {:.2f} ед.'.format(-cv_results_lr_mae['test_score'].mean()))\n",
    "\n",
    "print('\\n')\n",
    "\n",
    "cv_results_lr_mse = cross_validate(lr, x_poly, y, scoring='neg_mean_squared_error', cv=5, return_train_score=True)\n",
    "print('MSE на тренировочных фолдах: {:.2f} ед.^2'.format(-cv_results_lr_mse['train_score'].mean()))\n",
    "print('MSE на валидационных фолдах: {:.2f} ед.^2'.format(-cv_results_lr_mse['test_score'].mean()))"
   ],
   "id": "d958196f25763dcb",
   "outputs": [
    {
     "name": "stdout",
     "output_type": "stream",
     "text": [
      "MAE на тренировочных фолдах: 75.35 ед.\n",
      "MAE на валидационных фолдах: 110.47 ед.\n",
      "\n",
      "\n",
      "MSE на тренировочных фолдах: 10162.07 ед.^2\n",
      "MSE на валидационных фолдах: 24335.09 ед.^2\n"
     ]
    }
   ],
   "execution_count": 238
  },
  {
   "cell_type": "markdown",
   "source": [
    "> *Ваши выводы здесь*\n",
    "\n",
    "Значения MAE (75.35 на тренировочных данных и 110.47 на валидационных) показывают, что модель хорошо подстраивается под тренировочные данные, но хуже обобщается на валидационных, что указывает на возможное переобучение."
   ],
   "metadata": {
    "id": "9DkuuLLtFPPy"
   },
   "id": "9DkuuLLtFPPy"
  },
  {
   "cell_type": "markdown",
   "id": "63d06013",
   "metadata": {
    "id": "63d06013"
   },
   "source": [
    "### Задание 8.2. (2 балла)\n",
    "\n",
    "Теперь попробуем воспользоваться линейной регрессией с регуляризацией. Для начала возьмём $L_1$-регуляризацию.\n",
    "\n",
    "Обучите модель `Lasso` из библиотеки `sklearn` на полученных полиномиальных факторах, предварительно стандартизировав факторы. \n",
    "\n",
    "Коэффициент регуляризации (`alpha`) подберите самостоятельно с помощью любого известного вам метода подбора гиперпаметров.\n",
    "\n",
    "Используя кросс-валидацию, оцените среднее значение выбранной вами метрики (или метрик) на тренировочных и валидационных фолдах.\n",
    "\n",
    "Проинтерпретируйте полученные результаты."
   ]
  },
  {
   "cell_type": "markdown",
   "source": [
    "**Критерии оценивания:**\n",
    "\n",
    "- Задание выполнено верно, учтены все условия (**2 балла**): \n",
    "    * правильно построена модель полиномиальной регрессии (линейной регрессии на полиномиальных признаках) с регуляризацией (Lasso), учтены условия необходимости масштабирования факторов для построения модели;\n",
    "    * приведён код для подбора параметра регуляризации (вручную или с помощью библиотечных инструментов);\n",
    "    * с помощью кросс-валидации оценено среднее значение выбранной студентом метрики (или метрик) на тренировочных и валидационных фолдах (метрика должна быть выбрана корректно).\n",
    "\n",
    "- Задание выполнено верно, но не учтено одно из условий (**1 балл**).\n",
    "- Задание выполнено неверно, не учтено несколько условий (**0 баллов**)."
   ],
   "metadata": {
    "id": "z24YUfuA9rUq"
   },
   "id": "z24YUfuA9rUq"
  },
  {
   "metadata": {
    "ExecuteTime": {
     "end_time": "2024-12-02T04:28:10.300114Z",
     "start_time": "2024-12-02T04:28:10.297686Z"
    }
   },
   "cell_type": "code",
   "source": [
    "part1 = np.arange(0.1, 1, 0.1)\n",
    "\n",
    "part2 = np.arange(1, 101, 1)\n",
    "\n",
    "params_to_check = np.concatenate((part1, part2))"
   ],
   "id": "6e6ac9bf3976af5",
   "outputs": [],
   "execution_count": 257
  },
  {
   "metadata": {
    "ExecuteTime": {
     "end_time": "2024-12-02T04:28:11.402513Z",
     "start_time": "2024-12-02T04:28:11.398432Z"
    }
   },
   "cell_type": "code",
   "source": "params_to_check",
   "id": "928fe98aa4048cd4",
   "outputs": [
    {
     "data": {
      "text/plain": [
       "array([  0.1,   0.2,   0.3,   0.4,   0.5,   0.6,   0.7,   0.8,   0.9,\n",
       "         1. ,   2. ,   3. ,   4. ,   5. ,   6. ,   7. ,   8. ,   9. ,\n",
       "        10. ,  11. ,  12. ,  13. ,  14. ,  15. ,  16. ,  17. ,  18. ,\n",
       "        19. ,  20. ,  21. ,  22. ,  23. ,  24. ,  25. ,  26. ,  27. ,\n",
       "        28. ,  29. ,  30. ,  31. ,  32. ,  33. ,  34. ,  35. ,  36. ,\n",
       "        37. ,  38. ,  39. ,  40. ,  41. ,  42. ,  43. ,  44. ,  45. ,\n",
       "        46. ,  47. ,  48. ,  49. ,  50. ,  51. ,  52. ,  53. ,  54. ,\n",
       "        55. ,  56. ,  57. ,  58. ,  59. ,  60. ,  61. ,  62. ,  63. ,\n",
       "        64. ,  65. ,  66. ,  67. ,  68. ,  69. ,  70. ,  71. ,  72. ,\n",
       "        73. ,  74. ,  75. ,  76. ,  77. ,  78. ,  79. ,  80. ,  81. ,\n",
       "        82. ,  83. ,  84. ,  85. ,  86. ,  87. ,  88. ,  89. ,  90. ,\n",
       "        91. ,  92. ,  93. ,  94. ,  95. ,  96. ,  97. ,  98. ,  99. ,\n",
       "       100. ])"
      ]
     },
     "execution_count": 258,
     "metadata": {},
     "output_type": "execute_result"
    }
   ],
   "execution_count": 258
  },
  {
   "cell_type": "code",
   "source": [
    "grid_search_lasso = GridSearchCV(\n",
    "    estimator=Lasso(),\n",
    "    param_grid={\n",
    "        'alpha': params_to_check\n",
    "    },\n",
    "    cv=5,\n",
    "    scoring='neg_mean_absolute_error',\n",
    "    n_jobs=-1,\n",
    ")\n",
    "grid_search_lasso.fit(x_poly, y)\n",
    "\n",
    "print(\"Лучшие гиперпараметры:\", grid_search_lasso.best_params_)\n",
    "print(\"Лучшая метрика (MAE):\", -grid_search_lasso.best_score_)\n",
    "print('\\n')\n",
    "\n",
    "lasso = Lasso(alpha=grid_search_lasso.best_params_['alpha'], max_iter=10000)\n",
    "\n",
    "cv_results_lasso_mae = cross_validate(lasso, x_poly, y, scoring='neg_mean_absolute_error', cv=5, return_train_score=True)\n",
    "cv_results_lasso_mse = cross_validate(lasso, x_poly, y, scoring='neg_mean_squared_error', cv=5, return_train_score=True)\n",
    "\n",
    "print('MAE на тренировочных фолдах: {:.2f} ед.'.format(-cv_results_lasso_mae['train_score'].mean()))\n",
    "print('MAE на валидационных фолдах: {:.2f} ед.'.format(-cv_results_lasso_mae['test_score'].mean()))\n",
    "print('\\n')\n",
    "print('MSE на тренировочных фолдах: {:.2f} ед.^2'.format(-cv_results_lasso_mse['train_score'].mean()))\n",
    "print('MSE на валидационных фолдах: {:.2f} ед.^2'.format(-cv_results_lasso_mse['test_score'].mean()))"
   ],
   "metadata": {
    "id": "IJ5b5G8qFz-r",
    "ExecuteTime": {
     "end_time": "2024-12-02T04:31:11.542384Z",
     "start_time": "2024-12-02T04:31:11.397091Z"
    }
   },
   "id": "IJ5b5G8qFz-r",
   "outputs": [
    {
     "name": "stdout",
     "output_type": "stream",
     "text": [
      "Лучшие гиперпараметры: {'alpha': 5.0}\n",
      "Лучшая метрика (MAE): 95.69490293534996\n",
      "MAE на тренировочных фолдах: 78.30 ед.\n",
      "MAE на валидационных фолдах: 95.69 ед.\n",
      "\n",
      "\n",
      "MSE на тренировочных фолдах: 11422.63 ед.^2\n",
      "MSE на валидационных фолдах: 17260.89 ед.^2\n"
     ]
    }
   ],
   "execution_count": 264
  },
  {
   "cell_type": "markdown",
   "source": [
    "> *Ваши выводы здесь*\n",
    "\n",
    "Значения MAE (78.30 на тренировочных данных и 95.69 на валидационных) показывают, что модель хорошо подстраивается под тренировочные данные, но хуже обобщается на валидационных, что указывает на возможное переобучение."
   ],
   "metadata": {
    "id": "Se0OGR8UF2Td"
   },
   "id": "Se0OGR8UF2Td"
  },
  {
   "cell_type": "markdown",
   "id": "2975ae60",
   "metadata": {
    "id": "2975ae60"
   },
   "source": [
    "### Задание 8.3. (2 балла)\n",
    "\n",
    "Проделаем то же самое с $L_2$-регуляризацией.\n",
    "\n",
    "Обучите модель `Ridge` из библиотеки `sklearn` на полученных полиномиальных факторах, предварительно стандартизировав факторы. \n",
    "\n",
    "Коэффициент регуляризации (`alpha`) подберите самостоятельно с помощью любого известного вам метода подбора гиперпаметров.\n",
    "\n",
    "Используя кросс-валидацию оцените среднее значение выбранной вами метрики (или метрик) на тренировочных и валидационных фолдах.\n",
    "\n",
    "Проинтерпретируйте полученные результаты."
   ]
  },
  {
   "cell_type": "code",
   "source": [
    "grid_search_ridge = GridSearchCV(\n",
    "    estimator=Ridge(),\n",
    "    param_grid={\n",
    "        'alpha': params_to_check\n",
    "    },\n",
    "    cv=5,\n",
    "    scoring='neg_mean_absolute_error',\n",
    "    n_jobs=-1,\n",
    ")\n",
    "grid_search_ridge.fit(x_poly, y)\n",
    "\n",
    "print(\"Лучшие гиперпараметры:\", grid_search_ridge.best_params_)\n",
    "print(\"Лучшая метрика (MAE):\", -grid_search_ridge.best_score_)\n",
    "print('\\n')\n",
    "\n",
    "ridge = Ridge(alpha=grid_search_ridge.best_params_['alpha'])\n",
    "\n",
    "cv_results_ridge_mae = cross_validate(ridge, x_poly, y, scoring='neg_mean_absolute_error', cv=5, return_train_score=True)\n",
    "cv_results_ridge_mse = cross_validate(ridge, x_poly, y, scoring='neg_mean_squared_error', cv=5, return_train_score=True)\n",
    "\n",
    "print('MAE на тренировочных фолдах: {:.2f} ед.'.format(-cv_results_ridge_mae['train_score'].mean()))\n",
    "print('MAE на валидационных фолдах: {:.2f} ед.'.format(-cv_results_ridge_mae['test_score'].mean()))\n",
    "print('\\n')\n",
    "print('MSE на тренировочных фолдах: {:.2f} ед.^2'.format(-cv_results_ridge_mse['train_score'].mean()))\n",
    "print('MSE на валидационных фолдах: {:.2f} ед.^2'.format(-cv_results_ridge_mse['test_score'].mean()))"
   ],
   "metadata": {
    "id": "UfPGyNsjGGS8",
    "ExecuteTime": {
     "end_time": "2024-12-02T04:34:50.089934Z",
     "start_time": "2024-12-02T04:34:49.946322Z"
    }
   },
   "id": "UfPGyNsjGGS8",
   "outputs": [
    {
     "name": "stdout",
     "output_type": "stream",
     "text": [
      "Лучшие гиперпараметры: {'alpha': 0.2}\n",
      "Лучшая метрика (MAE): 110.06942279040723\n",
      "\n",
      "\n",
      "MAE на тренировочных фолдах: 75.40 ед.\n",
      "MAE на валидационных фолдах: 110.07 ед.\n",
      "\n",
      "\n",
      "MSE на тренировочных фолдах: 10184.29 ед.^2\n",
      "MSE на валидационных фолдах: 24013.16 ед.^2\n"
     ]
    }
   ],
   "execution_count": 267
  },
  {
   "cell_type": "markdown",
   "source": [
    "> *Ваши выводы здесь*\n",
    "\n",
    "Значения MAE (75.40 на тренировочных данных и 110.07 на валидационных) показывают, что модель хорошо подстраивается под тренировочные данные, но хуже обобщается на валидационных, что указывает на возможное переобучение."
   ],
   "metadata": {
    "id": "dQBd7ny_GIi1"
   },
   "id": "dQBd7ny_GIi1"
  },
  {
   "cell_type": "markdown",
   "source": [
    "**Критерии оценивания:**\n",
    "\n",
    "- Задание выполнено верно, учтены все условия (**2 балла**): \n",
    "    * правильно построена модель полиномиальной регрессии (линейной регрессии на полиномиальных признаках) с регуляризацией (Ridge), учтены условия необходимости масштабирования факторов для построения модели;\n",
    "    * приведён код для подбора параметра регуляризации (вручную или с помощью библиотечных инструментов);\n",
    "    * с помощью кросс-валидации оценено среднее значение выбранной студентом метрики (или метрик) на тренировочных и валидационных фолдах (метрика должна быть выбрана корректно).\n",
    "\n",
    "- Задание выполнено верно, но не учтено одно из условий (**1 балл**).\n",
    "- Задание выполнено неверно, не учтено несколько условий (**0 баллов**)."
   ],
   "metadata": {
    "id": "86pXnWE7-5ch"
   },
   "id": "86pXnWE7-5ch"
  },
  {
   "cell_type": "markdown",
   "id": "7ad85b78",
   "metadata": {
    "id": "7ad85b78"
   },
   "source": [
    "### Задание 8.4. (2 балла)\n",
    "\n",
    "Наконец, настало время комбинировать $L_1$ и $L_2$ -регуляризации.\n",
    "\n",
    "Обучите модель `ElasticNet` из библиотеки `sklearn` на полученных полиномиальных факторах, предварительно стандартизировав факторы. \n",
    "\n",
    "Коэффициенты регуляризации (`alpha` и `l1-ratio`) подберите самостоятельно с помощью любого известного вам метода подбора гиперпаметров.\n",
    "\n",
    "Используя кросс-валидацию, оцените среднее значение метрики MAPE на тренировочных и валидационных фолдах.\n",
    "\n",
    "Проинтерпретируйте полученные результаты."
   ]
  },
  {
   "cell_type": "markdown",
   "source": [
    "**Критерии оценивания:**\n",
    "\n",
    "- Задание выполнено верно, учтены все условия (**2 балла**): \n",
    "    * правильно построена модель полиномиальной регрессии (линейной регрессии на полиномиальных признаках) с регуляризацией (ElasticNet), учтены условия необходимости масштабирования факторов для построения модели;\n",
    "    * приведён код для подбора параметра регуляризации (вручную или с помощью библиотечных инструментов);\n",
    "    * с помощью кросс-валидации оценено среднее значение выбранной студентом метрики (или метрик) на тренировочных и валидационных фолдах (метрика должна быть выбрана корректно).\n",
    "\n",
    "- Задание выполнено верно, но не учтено одно из условий (**1 балл**).\n",
    "- Задание выполнено неверно, не учтено несколько условий (**0 баллов**)."
   ],
   "metadata": {
    "id": "sy8ESceQ-__u"
   },
   "id": "sy8ESceQ-__u"
  },
  {
   "cell_type": "code",
   "source": [
    "grid_search_elasticnet = GridSearchCV(\n",
    "    estimator=ElasticNet(max_iter=10000),\n",
    "    param_grid={\n",
    "        'alpha': params_to_check,\n",
    "        'l1_ratio': part1\n",
    "    },\n",
    "    cv=5,\n",
    "    scoring='neg_mean_absolute_error',\n",
    "    n_jobs=-1,\n",
    ")\n",
    "grid_search_elasticnet.fit(x_poly, y)\n",
    "\n",
    "print(\"Лучшие гиперпараметры:\", grid_search_elasticnet.best_params_)\n",
    "print(\"Лучшая метрика (MAE):\", -grid_search_elasticnet.best_score_)\n",
    "print('\\n')\n",
    "\n",
    "elasticnet = ElasticNet(\n",
    "    alpha=grid_search_elasticnet.best_params_['alpha'],\n",
    "    l1_ratio=grid_search_elasticnet.best_params_['l1_ratio'],\n",
    "    max_iter=10000\n",
    ")\n",
    "\n",
    "cv_results_elasticnet_mae = cross_validate(elasticnet, \n",
    "                                           x_poly, \n",
    "                                           y, \n",
    "                                           scoring='neg_mean_absolute_error', \n",
    "                                           cv=5, \n",
    "                                           return_train_score=True)\n",
    "cv_results_elasticnet_mse = cross_validate(elasticnet, \n",
    "                                           x_poly, \n",
    "                                           y, \n",
    "                                           scoring='neg_mean_squared_error', \n",
    "                                           cv=5, \n",
    "                                           return_train_score=True)\n",
    "\n",
    "print('MAE на тренировочных фолдах: {:.2f} ед.'.format(-cv_results_elasticnet_mae['train_score'].mean()))\n",
    "print('MAE на валидационных фолдах: {:.2f} ед.'.format(-cv_results_elasticnet_mae['test_score'].mean()))\n",
    "print('\\n')\n",
    "print('MSE на тренировочных фолдах: {:.2f} ед.^2'.format(-cv_results_elasticnet_mse['train_score'].mean()))\n",
    "print('MSE на валидационных фолдах: {:.2f} ед.^2'.format(-cv_results_elasticnet_mse['test_score'].mean()))"
   ],
   "metadata": {
    "id": "-Yi3P20hQnLS",
    "ExecuteTime": {
     "end_time": "2024-12-02T04:54:53.263211Z",
     "start_time": "2024-12-02T04:54:52.510781Z"
    }
   },
   "id": "-Yi3P20hQnLS",
   "outputs": [
    {
     "name": "stdout",
     "output_type": "stream",
     "text": [
      "Лучшие гиперпараметры: {'alpha': 0.1, 'l1_ratio': 0.9}\n",
      "Лучшая метрика (MAE): 112.97994157329188\n",
      "\n",
      "\n",
      "MAE на тренировочных фолдах: 79.15 ед.\n",
      "MAE на валидационных фолдах: 112.98 ед.\n",
      "\n",
      "\n",
      "MSE на тренировочных фолдах: 10947.25 ед.^2\n",
      "MSE на валидационных фолдах: 24101.01 ед.^2\n"
     ]
    }
   ],
   "execution_count": 276
  },
  {
   "cell_type": "markdown",
   "source": [
    "> *Ваши выводы здесь*\n",
    "\n",
    "Значения MAE (79.15 на тренировочных данных и 112.98 на валидационных) показывают, что модель хорошо подстраивается под тренировочные данные, но хуже обобщается на валидационных, что указывает на возможное переобучение."
   ],
   "metadata": {
    "id": "er2lAiE9QpAb"
   },
   "id": "er2lAiE9QpAb"
  },
  {
   "cell_type": "markdown",
   "id": "91c6e1d1",
   "metadata": {
    "id": "91c6e1d1"
   },
   "source": [
    "### Задание 8.5. (1 балл)\n",
    "\n",
    "Завершением вашей работы будет сводная таблица результатов, которую вы представите на презентации заказчику Василию.\n",
    "\n",
    "Составьте таблицу (DataFrame) со следующими столбцами (имена столбцов выберите самостоятельно):\n",
    "* Наименование модели.\n",
    "* Гиперпараметры (коэффициенты регуляризации, если таковые имеются), если нет — оставьте ячейку пустой.\n",
    "* Использовались ли полиномиальные признаки при построении модели (Да/Нет или True/False).\n",
    "* Значение выбранной метрики на тренировочных фолдах при кросс-валидации модели.\n",
    "* Значение выбранной метрики на валидационных фолдах при кросс-валидации модели.\n",
    "\n",
    "Сделайте финальный вывод по проделанной работе. Какая линейная модель из тех, что мы рассмотрели, показала наилучший результат с точки зрения качества на валидационных фолдах, а также с точки зрения переобученности?"
   ]
  },
  {
   "cell_type": "markdown",
   "source": [
    "**Критерии оценивания:**\n",
    "\n",
    "- Задание выполнено верно, учтены все условия (**1 балл**): \n",
    "    * верно составлена сводная таблица итоговых результатов построенных ранее моделей с указанными в задании столбцами;\n",
    "    * приведены итоговые выводы по проделанной работе, указано, какая из рассмотренных моделей показала наилучший результат.\n",
    "\n",
    "- Задание выполнено неверно, не учтено одно или несколько условий (**0 баллов**)."
   ],
   "metadata": {
    "id": "OsFRaKkF_nLq"
   },
   "id": "OsFRaKkF_nLq"
  },
  {
   "cell_type": "code",
   "source": [
    "res = [[\n",
    "    'LinearRegression',\n",
    "    np.NaN,\n",
    "    np.bool_(False),\n",
    "    format(-cv_results_lr_mae['train_score'].mean(), '.2f'),\n",
    "    format(-cv_results_lr_mae['test_score'].mean(), '.2f'),\n",
    "    format(-cv_results_lr_mse['train_score'].mean(), '.2f'),\n",
    "    format(-cv_results_lr_mse['test_score'].mean(), '.2f'),\n",
    "], [\n",
    "    'Lasso',\n",
    "    grid_search_lasso.best_params_,\n",
    "    np.bool_(True),\n",
    "    format(-cv_results_lasso_mae['train_score'].mean(), '.2f'),\n",
    "    format(-cv_results_lasso_mae['test_score'].mean(), '.2f'),\n",
    "    format(-cv_results_lasso_mse['train_score'].mean(), '.2f'),\n",
    "    format(-cv_results_lasso_mse['test_score'].mean(), '.2f'),\n",
    "], [\n",
    "    'Ridge',\n",
    "    grid_search_ridge.best_params_,\n",
    "    np.bool_(True),\n",
    "    format(-cv_results_ridge_mae['train_score'].mean(), '.2f'),\n",
    "    format(-cv_results_ridge_mae['test_score'].mean(), '.2f'),\n",
    "    format(-cv_results_ridge_mse['train_score'].mean(), '.2f'),\n",
    "    format(-cv_results_ridge_mse['test_score'].mean(), '.2f'),\n",
    "], [\n",
    "    'ElasticNet',\n",
    "    grid_search_elasticnet.best_params_,\n",
    "    np.bool_(True),\n",
    "    format(-cv_results_elasticnet_mae['train_score'].mean(), '.2f'),\n",
    "    format(-cv_results_elasticnet_mae['test_score'].mean(), '.2f'),\n",
    "    format(-cv_results_elasticnet_mse['train_score'].mean(), '.2f'),\n",
    "    format(-cv_results_elasticnet_mse['test_score'].mean(), '.2f'),\n",
    "]]\n",
    "\n",
    "results_df = pd.DataFrame(\n",
    "    res, \n",
    "    columns=[\n",
    "        'model_name', \n",
    "        'hyperparameters', \n",
    "        'is_use_poly_features',\n",
    "        'cv_train_score_mae',\n",
    "        'cv_test_score_mae',\n",
    "        'cv_train_score_mse',\n",
    "        'cv_test_score_mse',\n",
    "    ]\n",
    ")"
   ],
   "metadata": {
    "id": "wRiys8lKQuqW",
    "ExecuteTime": {
     "end_time": "2024-12-02T04:48:03.531200Z",
     "start_time": "2024-12-02T04:48:03.526668Z"
    }
   },
   "id": "wRiys8lKQuqW",
   "outputs": [],
   "execution_count": 272
  },
  {
   "metadata": {
    "ExecuteTime": {
     "end_time": "2024-12-02T04:49:23.458724Z",
     "start_time": "2024-12-02T04:49:23.453871Z"
    }
   },
   "cell_type": "code",
   "source": "results_df.head()",
   "id": "b0faed92bfaa7eac",
   "outputs": [
    {
     "data": {
      "text/plain": [
       "         model_name                  hyperparameters  is_use_poly_features  \\\n",
       "0  LinearRegression                              NaN                 False   \n",
       "1             Lasso                   {'alpha': 5.0}                  True   \n",
       "2             Ridge                   {'alpha': 0.2}                  True   \n",
       "3        ElasticNet  {'alpha': 0.1, 'l1_ratio': 0.9}                  True   \n",
       "\n",
       "  cv_train_score_mae cv_test_score_mae cv_train_score_mse cv_test_score_mse  \n",
       "0              75.35            110.47           10162.07          24335.09  \n",
       "1              78.30             95.69           11422.63          17260.89  \n",
       "2              75.40            110.07           10184.29          24013.16  \n",
       "3              79.15            112.98           10947.25          24101.01  "
      ],
      "text/html": [
       "<div>\n",
       "<style scoped>\n",
       "    .dataframe tbody tr th:only-of-type {\n",
       "        vertical-align: middle;\n",
       "    }\n",
       "\n",
       "    .dataframe tbody tr th {\n",
       "        vertical-align: top;\n",
       "    }\n",
       "\n",
       "    .dataframe thead th {\n",
       "        text-align: right;\n",
       "    }\n",
       "</style>\n",
       "<table border=\"1\" class=\"dataframe\">\n",
       "  <thead>\n",
       "    <tr style=\"text-align: right;\">\n",
       "      <th></th>\n",
       "      <th>model_name</th>\n",
       "      <th>hyperparameters</th>\n",
       "      <th>is_use_poly_features</th>\n",
       "      <th>cv_train_score_mae</th>\n",
       "      <th>cv_test_score_mae</th>\n",
       "      <th>cv_train_score_mse</th>\n",
       "      <th>cv_test_score_mse</th>\n",
       "    </tr>\n",
       "  </thead>\n",
       "  <tbody>\n",
       "    <tr>\n",
       "      <th>0</th>\n",
       "      <td>LinearRegression</td>\n",
       "      <td>NaN</td>\n",
       "      <td>False</td>\n",
       "      <td>75.35</td>\n",
       "      <td>110.47</td>\n",
       "      <td>10162.07</td>\n",
       "      <td>24335.09</td>\n",
       "    </tr>\n",
       "    <tr>\n",
       "      <th>1</th>\n",
       "      <td>Lasso</td>\n",
       "      <td>{'alpha': 5.0}</td>\n",
       "      <td>True</td>\n",
       "      <td>78.30</td>\n",
       "      <td>95.69</td>\n",
       "      <td>11422.63</td>\n",
       "      <td>17260.89</td>\n",
       "    </tr>\n",
       "    <tr>\n",
       "      <th>2</th>\n",
       "      <td>Ridge</td>\n",
       "      <td>{'alpha': 0.2}</td>\n",
       "      <td>True</td>\n",
       "      <td>75.40</td>\n",
       "      <td>110.07</td>\n",
       "      <td>10184.29</td>\n",
       "      <td>24013.16</td>\n",
       "    </tr>\n",
       "    <tr>\n",
       "      <th>3</th>\n",
       "      <td>ElasticNet</td>\n",
       "      <td>{'alpha': 0.1, 'l1_ratio': 0.9}</td>\n",
       "      <td>True</td>\n",
       "      <td>79.15</td>\n",
       "      <td>112.98</td>\n",
       "      <td>10947.25</td>\n",
       "      <td>24101.01</td>\n",
       "    </tr>\n",
       "  </tbody>\n",
       "</table>\n",
       "</div>"
      ]
     },
     "execution_count": 274,
     "metadata": {},
     "output_type": "execute_result"
    }
   ],
   "execution_count": 274
  },
  {
   "cell_type": "markdown",
   "source": [
    "> *Ваши выводы здесь*\n",
    "\n",
    "\n",
    "На мой взгляд лучше всего себя показала модель Lasso\\\n",
    "Она показала лучшие результаты на валидационных фолдах, а так же самый низкий результат в больших выбросах\n",
    "\n"
   ],
   "metadata": {
    "id": "UP7_LSoEQsrA"
   },
   "id": "UP7_LSoEQsrA"
  },
  {
   "metadata": {},
   "cell_type": "code",
   "outputs": [],
   "execution_count": null,
   "source": "",
   "id": "d7e765973dfc963e"
  }
 ],
 "metadata": {
  "kernelspec": {
   "display_name": "Python 3.10.8 ('base')",
   "language": "python",
   "name": "python3"
  },
  "language_info": {
   "codemirror_mode": {
    "name": "ipython",
    "version": 3
   },
   "file_extension": ".py",
   "mimetype": "text/x-python",
   "name": "python",
   "nbconvert_exporter": "python",
   "pygments_lexer": "ipython3",
   "version": "3.10.8"
  },
  "vscode": {
   "interpreter": {
    "hash": "86c56a74836ad344b00594bf6f38fa6a676a207ceefe20d101fbc465800ccb8d"
   }
  },
  "colab": {
   "provenance": []
  }
 },
 "nbformat": 4,
 "nbformat_minor": 5
}
